{
 "cells": [
  {
   "cell_type": "code",
   "execution_count": null,
   "metadata": {},
   "outputs": [],
   "source": []
  },
  {
   "attachments": {},
   "cell_type": "markdown",
   "metadata": {},
   "source": [
    "Student Performance Indicator\n",
    "Life cycle of Machine learning Project\n",
    "Understanding the Problem Statement\n",
    "Data Collection\n",
    "Data Checks to perform\n",
    "Exploratory data analysis\n",
    "Data Pre-Processing\n",
    "Model Training\n",
    "Choose best model"
   ]
  }
 ],
 "metadata": {
  "language_info": {
   "name": "python"
  },
  "orig_nbformat": 4
 },
 "nbformat": 4,
 "nbformat_minor": 2
}
